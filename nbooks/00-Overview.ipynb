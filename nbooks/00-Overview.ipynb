{
 "cells": [
  {
   "cell_type": "markdown",
   "metadata": {},
   "source": [
    "# Overview of Jupyter Notebooks applied to generate Paper Plots "
   ]
  },
  {
   "cell_type": "markdown",
   "metadata": {},
   "source": [
    "Here, we list all jupyter notebooks that have been run for the plot of the paper: Senf, Voigt, Clerbaux, Hünerbein and Deneke, __On Sensitivities and Convergence of Simulated Radiative Effects of Cloud Systems over the North Atlantic__, in preparation for JGR"
   ]
  },
  {
   "cell_type": "markdown",
   "metadata": {},
   "source": [
    "The image are locally hosted under"
   ]
  },
  {
   "cell_type": "code",
   "execution_count": 3,
   "metadata": {},
   "outputs": [
    {
     "name": "stdout",
     "output_type": "stream",
     "text": [
      "Fig01.jpg\n",
      "Fig02.jpg\n",
      "Fig03.jpg\n",
      "Fig04.jpg\n",
      "Fig05.jpg\n",
      "Fig06.jpg\n",
      "Fig07.jpg\n",
      "Fig08.jpg\n",
      "Fig09.jpg\n",
      "Fig10.jpg\n",
      "Fig11.jpg\n",
      "Fig12.jpg\n",
      "Fig13.jpg\n"
     ]
    }
   ],
   "source": [
    "%%bash\n",
    "\n",
    "ls ../paper-pics/"
   ]
  },
  {
   "cell_type": "markdown",
   "metadata": {},
   "source": [
    "## Fig 1"
   ]
  },
  {
   "cell_type": "markdown",
   "metadata": {},
   "source": [
    "![Fig01.jpg](../paper-pics/Fig01.jpg)\n",
    "\n",
    "made with libreoffice `${HOME}/TROPOS/pub/2018-11_CRE-Nawdex-Aiko/material/flow-chart.odp`\n",
    "\n",
    "***"
   ]
  },
  {
   "cell_type": "markdown",
   "metadata": {},
   "source": [
    "## Fig 2\n"
   ]
  },
  {
   "cell_type": "markdown",
   "metadata": {},
   "source": [
    "![Fig02.jpg](../paper-pics/Fig02.jpg)\n",
    "\n",
    "derived from [12-Overview_table_plots.ipynb](12-Overview_table_plots.ipynb)\n",
    "\n",
    "***"
   ]
  },
  {
   "cell_type": "markdown",
   "metadata": {},
   "source": [
    "## Fig 3"
   ]
  },
  {
   "cell_type": "markdown",
   "metadata": {},
   "source": [
    "![Fig03.jpg](../paper-pics/Fig03.jpg)\n",
    "\n",
    "derived from[13-NWCSAF-CT-plot.ipynb](13-NWCSAF-CT-plot.ipynb)\n",
    "\n",
    "***"
   ]
  },
  {
   "cell_type": "markdown",
   "metadata": {},
   "source": [
    "## Fig 4"
   ]
  },
  {
   "cell_type": "markdown",
   "metadata": {},
   "source": [
    "![Fig04.jpg](../paper-pics/Fig04.jpg)\n",
    "\n",
    "derived from [02-Scaling_of_the_upwarding_clearsky_SWF.ipynb](02-Scaling_of_the_upwarding_clearsky_SWF.ipynb)\n",
    "\n",
    "***"
   ]
  },
  {
   "cell_type": "markdown",
   "metadata": {},
   "source": [
    "## Fig 5"
   ]
  },
  {
   "cell_type": "markdown",
   "metadata": {},
   "source": [
    "![Fig05.jpg](../paper-pics/Fig05.jpg)\n",
    "\n",
    "derived from [01-Calibration_of_estimated_clearsky.ipynb](01-Calibration_of_estimated_clearsky.ipynb)\n",
    "\n",
    "***"
   ]
  },
  {
   "cell_type": "markdown",
   "metadata": {},
   "source": [
    "## Fig 6"
   ]
  },
  {
   "cell_type": "markdown",
   "metadata": {},
   "source": [
    "![Fig06.jpg](../paper-pics/Fig06.jpg)\n",
    "\n",
    "derived from [03-Radiation_flux_budgets.ipynb](03-Radiation_flux_budgets.ipynb)\n",
    "\n",
    "***"
   ]
  },
  {
   "cell_type": "markdown",
   "metadata": {},
   "source": [
    "## Fig 7"
   ]
  },
  {
   "cell_type": "markdown",
   "metadata": {},
   "source": [
    "![Fig07.jpg](../paper-pics/Fig07.jpg)\n",
    "\n",
    "\n",
    "derived from [05-plot_CRE-vs-CC.ipynb](05-plot_CRE-vs-CC.ipynb)\n",
    "\n",
    "***"
   ]
  },
  {
   "cell_type": "markdown",
   "metadata": {},
   "source": [
    "## Fig 8"
   ]
  },
  {
   "cell_type": "markdown",
   "metadata": {},
   "source": [
    "![Fig08.jpg](../paper-pics/Fig08.jpg)\n",
    "\n",
    "\n",
    "notebook is still in the `proj` directory under [25-analyzing_radiation_bias_decomposition.ipynb](../../../proj/2017-07_icon-nawdex/nbooks/25-analyzing_radiation_bias_decomposition.ipynb)\n",
    "\n",
    "***"
   ]
  },
  {
   "cell_type": "markdown",
   "metadata": {},
   "source": [
    "## Fig 9"
   ]
  },
  {
   "cell_type": "markdown",
   "metadata": {},
   "source": [
    "![Fig09.jpg](../paper-pics/Fig09.jpg)\n",
    "\n",
    "derived from [06-average_cc-per-ct_plots.ipynb](06-average_cc-per-ct_plots.ipynb)\n",
    "\n",
    "***"
   ]
  },
  {
   "cell_type": "markdown",
   "metadata": {},
   "source": [
    "## Fig 10"
   ]
  },
  {
   "cell_type": "markdown",
   "metadata": {},
   "source": [
    "![Fig10.jpg](../paper-pics/Fig10.jpg)\n",
    "\n",
    "derived from [11-Plot_Albedo_Statistics.ipynb](11-Plot_Albedo_Statistics.ipynb)\n",
    "\n",
    "***"
   ]
  },
  {
   "cell_type": "markdown",
   "metadata": {},
   "source": [
    "## Fig 11"
   ]
  },
  {
   "cell_type": "markdown",
   "metadata": {},
   "source": [
    "![Fig11.jpg](../paper-pics/Fig11.jpg)\n",
    "\n",
    "a combination of plots from\n",
    "* [07-overcast_CRE-per-ct_plots.ipynb](07-overcast_CRE-per-ct_plots.ipynb)\n",
    "* [08-allsky_CRE-per-ct_plots.ipynb](08-allsky_CRE-per-ct_plots.ipynb)\n",
    "\n",
    "and use the following `convert`/ `montage` strategy\n",
    "\n",
    "```bash\n",
    "montage -tile 2x1 -trim -geometry +100+0 cre_overcast-vs-ct.png cre_allsky-vs-ct.png cre_overcast_and_allsky-vs-ct.png\n",
    "convert -trim -gravity center cre_overcast_and_allsky-vs-ct.png legend-trim.png -smush 200 cre_overcast_and_allsky-vs-ct_legend.png\n",
    "\n",
    "```\n",
    "\n",
    "\n",
    "***"
   ]
  },
  {
   "cell_type": "markdown",
   "metadata": {},
   "source": [
    "## Fig 12"
   ]
  },
  {
   "cell_type": "markdown",
   "metadata": {},
   "source": [
    "![Fig12.jpg](../paper-pics/Fig12.jpg)\n",
    "\n",
    "derived from [14-CRE-bias_decomposition.ipynb](14-CRE-bias_decomposition.ipynb).\n",
    "\n",
    "***"
   ]
  },
  {
   "cell_type": "markdown",
   "metadata": {},
   "source": [
    "## Fig 13"
   ]
  },
  {
   "cell_type": "markdown",
   "metadata": {},
   "source": [
    "![Fig13.jpg](../paper-pics/Fig13.jpg)\n",
    "\n",
    "derived from [14-CRE-bias_decomposition.ipynb](14-CRE-bias_decomposition.ipynb)."
   ]
  },
  {
   "cell_type": "markdown",
   "metadata": {},
   "source": [
    "All images are put together with\n",
    "\n",
    "```bash\n",
    "montage -tile 2x1 -trim -geometry +200+0 cre_bias_cloud_fraction_term-vs-ct.png cre_bias_radflux_term-vs-ct.png cre_bias_terms_combined.png\n",
    "convert -trim -gravity center cre_bias-vs-ct.png cre_bias_terms_combined.png -smush 300 cre_biases_combined.png\n",
    "``` "
   ]
  }
 ],
 "metadata": {
  "kernelspec": {
   "display_name": "Python 2",
   "language": "python",
   "name": "python2"
  },
  "language_info": {
   "codemirror_mode": {
    "name": "ipython",
    "version": 2
   },
   "file_extension": ".py",
   "mimetype": "text/x-python",
   "name": "python",
   "nbconvert_exporter": "python",
   "pygments_lexer": "ipython2",
   "version": "2.7.15"
  }
 },
 "nbformat": 4,
 "nbformat_minor": 2
}
