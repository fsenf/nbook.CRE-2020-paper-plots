{
 "cells": [
  {
   "cell_type": "markdown",
   "metadata": {},
   "source": [
    "# Overview of Jupyter Notebooks Applied to Generate Paper Plots "
   ]
  },
  {
   "cell_type": "markdown",
   "metadata": {},
   "source": [
    "Here, we list all jupyter notebooks that have been run for the plot of the paper: Senf, Voigt, Clerbaux, Hünerbein and Deneke, __Increasing resolution and resolving convection improves the simulation of cloud-radiative effects over the North Atlantic__, under review, JGR\n",
    "\n",
    "Preprint is available under https://doi.org/10.1002/essoar.10502408.2"
   ]
  },
  {
   "cell_type": "markdown",
   "metadata": {},
   "source": [
    "The image are locally hosted under"
   ]
  },
  {
   "cell_type": "code",
   "execution_count": 3,
   "metadata": {},
   "outputs": [
    {
     "name": "stdout",
     "output_type": "stream",
     "text": [
      "Fig01.jpg\n",
      "Fig02.jpg\n",
      "Fig03.jpg\n",
      "Fig04.jpg\n",
      "Fig05.jpg\n",
      "Fig06.jpg\n",
      "Fig07.jpg\n",
      "Fig08.jpg\n",
      "Fig09.jpg\n",
      "Fig10.jpg\n",
      "Fig11.jpg\n",
      "Fig12.jpg\n",
      "Fig13.jpg\n"
     ]
    }
   ],
   "source": [
    "%%bash\n",
    "\n",
    "ls ../paper-pics/"
   ]
  },
  {
   "cell_type": "markdown",
   "metadata": {},
   "source": [
    "## Fig 1\n",
    "\n",
    "Figure 1: Overview of the workflow for (a) the calculation of a consistent cloud classificationand (b) the derivation of CREs.  Two parallel paths for observations (black) and the simula-tions (blue) are shown.  The symbols in the top row visualize the input data (either satellite dataarchive or simulation output).  Final data are shown in the last row.  Rectangles denote processingmethods further discussed in the text, and slanted parallelograms correspond to intermediate andfinal data."
   ]
  },
  {
   "cell_type": "markdown",
   "metadata": {},
   "source": [
    "![Fig01.jpg](../paper-pics/Fig01.jpg)\n",
    "\n",
    "made with libreoffice `${HOME}/TROPOS/pub/2018-11_CRE-Nawdex-Aiko/material/flow-chart.odp`\n",
    "\n",
    "***"
   ]
  },
  {
   "cell_type": "markdown",
   "metadata": {},
   "source": [
    "## Fig 2\n",
    "\n",
    "Figure 2: Overview of observed and simulated BTs from Meteosat SEVIRI’s window channelat 10.8μm for 1200 UTC 23 Sept 2016.  Observations are compared to ICON simulations withincreasing grid spacing (left to right and downwards, from 2.5 to 80 km).  Only the subset of sim-ulation experiments with one-moment microphysics and fully parameterized convection is chosenfor visualization.  A special color scheme is used to highlight observed and simulated features.BTs over land are also shown to improve anticipation of the cloud scenery.  Further analysishowever only considers the Atlantic ocean region."
   ]
  },
  {
   "cell_type": "markdown",
   "metadata": {},
   "source": [
    "![Fig02.jpg](../paper-pics/Fig02.jpg)\n",
    "\n",
    "derived from [12-Overview_table_plots.ipynb](12-Overview_table_plots.ipynb)\n",
    "\n",
    "***"
   ]
  },
  {
   "cell_type": "markdown",
   "metadata": {},
   "source": [
    "## Fig 3\n",
    "\n",
    "Figure 3: Planetary albedo versus cloud-top height for the different NWCSAF classes.  Thecircles represent averages and the error bars give the standard deviation of clear-sky or cloudproperties.  Data have been taken from the observed scenery shown in Fig. 2 and 4.  Numbersk={0...9}refer to the different classes listed in the legend.  Note that the cloud classes “frac-tional” and “very low” (which are shown separately here) are combined in the following analysis.For comparison, a second categorization after Hartmann et al. (1992) is provided as backgroundimage.  It separates cloud amounts into three height categories (low, mid-level and high) as wellas into two opacity levels (thin and thick clouds)."
   ]
  },
  {
   "cell_type": "markdown",
   "metadata": {},
   "source": [
    "![Fig03.jpg](../paper-pics/Fig03.jpg)\n",
    "\n",
    "derived from[16-Plot-CTH-vs-Albedo.ipynb](16-Plot-CTH-vs-Albedo.ipynb)\n",
    "\n",
    "***"
   ]
  },
  {
   "cell_type": "markdown",
   "metadata": {},
   "source": [
    "## Fig 4\n",
    "\n",
    "Figure 4.Example of observed and simulated cloud types for 1200 UTC 23 Sept 2016 asderived from Meteosat SEVIRI observations (top left) and ICON simulations with 2.5 km hor-izontal resolution.  The left column is for simulations with one-moment cloud microphysics (\\*),the right column for simulations with two-moment microphysics (\\**).  The second row is for fully explicit convection, the third row for simulations with a shallow convection scheme (sCP), andthe fourth row for simulations with fully parameterized convection (CP)."
   ]
  },
  {
   "cell_type": "markdown",
   "metadata": {},
   "source": [
    "![Fig04.jpg](../paper-pics/Fig04.jpg)\n",
    "\n",
    "derived from [13-NWCSAF-CT-plot.ipynb](13-NWCSAF-CT-plot.ipynb)\n",
    "\n",
    "***"
   ]
  },
  {
   "cell_type": "markdown",
   "metadata": {},
   "source": [
    "## Fig 5\n",
    "\n",
    "Figure 5: The radiative effect of undetected clouds in areas classified as cloud-free (i.e.k=0).  All data points show the average difference between clear-sky and all-sky fluxes for(a) shortwave ∆Fsw,net=Fsw,net,clear−Fsw,netand (b) longwave ∆Flw = Flw,clear−Flw.  The barsgive an robust estimate of the standard error of the daily-average values over all simulation sets,thus provide a confidence interval.  For this, the difference between the 84-th and 16-th percentilehas been calculated to approximate twice the multi-day standard deviation 2σwhich was furtherdivided by √N with N = 11 for the all experiments except the additional runs from simulation set 2 (see Tab. 3).  Colored symbols represent different simulations which have been verticallystacked to improve visibility.  The gray symbols show the uncorrected observational estimatewhere the all-sky fluxes are based on Meteosat, but the clear-sky fluxes are directly taken from ICON( 10km, \\*, CP ). The black symbols show the corrected observational values with a scalefactor applied to the shortwave and a constant additive offset to the longwave part of clear-skyfluxes taken from ICON( 10km, \\*, CP ). Thin gray lines connect all other symbols to the obser-vation for improved interpretation.  The clear-sky bias of the simulations is directly obtained fromthe difference between black and gray symbols."
   ]
  },
  {
   "cell_type": "markdown",
   "metadata": {},
   "source": [
    "![Fig05.jpg](../paper-pics/Fig05.jpg)\n",
    "\n",
    "derived from [01-Calibration_of_estimated_clearsky.ipynb](01-Calibration_of_estimated_clearsky.ipynb)\n",
    "\n",
    "***"
   ]
  },
  {
   "cell_type": "markdown",
   "metadata": {},
   "source": [
    "## Fig 6\n",
    "\n",
    "Figure 6: Simulated and observed upwelling versus downwelling shortwave fluxes in cloud-freeareas.  The upwelling flux is calculated for 10 bins of the downwelling flux.  Symbols denote condi-tional median values and error bars show the inter-quartile range.  Simulations are shown in gray,with the simulations for ICON( 10km, \\*, CP )shown in olive green.  Observations are shown bythe black diamonds and the black sold line.  The dashed black line shows the upwelling flux from ICON( 10km, \\*, CP )rescaled by a factor of 0.88."
   ]
  },
  {
   "cell_type": "markdown",
   "metadata": {},
   "source": [
    "![Fig06.jpg](../paper-pics/Fig06.jpg)\n",
    "\n",
    "\n",
    "derived from [02-Scaling_of_the_upwarding_clearsky_SWF.ipynb](02-Scaling_of_the_upwarding_clearsky_SWF.ipynb)\n",
    "\n",
    "***"
   ]
  },
  {
   "cell_type": "markdown",
   "metadata": {},
   "source": [
    "## Fig 7\n",
    "\n",
    "Figure 7: Domain and time-averaged all-sky radiation fluxes:  (a) total net flux, (b) outgoinglongwave flux, (c) net shortwave flux, (d) upwelling shortwave flux, and (e) downwelling short-wave flux.  Observations are shown by the black horizontal lines.  The deviations of simulatedfluxes with respect to observations are shown by colored bars."
   ]
  },
  {
   "cell_type": "markdown",
   "metadata": {},
   "source": [
    "![Fig07.jpg](../paper-pics/Fig07.jpg)\n",
    "\n",
    "derived from [03-Radiation_flux_budgets.ipynb](03-Radiation_flux_budgets.ipynb)\n",
    "\n",
    "***"
   ]
  },
  {
   "cell_type": "markdown",
   "metadata": {},
   "source": [
    "## Fig 8\n",
    "\n",
    "Figure 8: Comparison of domain- and time-averaged cloud-radiative effects and cloud cover:(a) longwave CRE vs.  shortwave CRE. Cloud cover vs.  (b) shortwave CRE, (c) longwave CRE,and (d) net CRE. Similar to Fig. 5, symbols denote average values and error bars provide confi-dence intervals.  Please note the differences in the y-axis range."
   ]
  },
  {
   "cell_type": "markdown",
   "metadata": {},
   "source": [
    "![Fig08.jpg](../paper-pics/Fig08.jpg)\n",
    "\n",
    "derived from [05-plot_CRE-vs-CC.ipynb](05-plot_CRE-vs-CC.ipynb)\n",
    "\n",
    "***"
   ]
  },
  {
   "cell_type": "markdown",
   "metadata": {},
   "source": [
    "## Fig 9\n",
    "\n",
    "Figure 9: Decomposition of domain- and time-averaged biases for net (left), shortwave (mid-dle) and outgoing longwave (right) radiation fluxes.  The all-sky bias (1st row) is the sum of clear-sky (2nd row) and CRE (3rd row) biases.  The clear-sky biases are calculated with respectto the bias-corrected clear-sky fluxes ofICON( 10km, \\*, CP ), which serves as observationalreference."
   ]
  },
  {
   "cell_type": "markdown",
   "metadata": {},
   "source": [
    "![Fig09.jpg](../paper-pics/Fig09.jpg)\n",
    "\n",
    "derived from [14-Radflux-bias_decomposition.ipynb](14-Radflux-bias_decomposition.ipynb)\n",
    "\n",
    "***"
   ]
  },
  {
   "cell_type": "markdown",
   "metadata": {},
   "source": [
    "## Fig 10\n",
    "\n",
    "Figure 10: Impact of resolution and microphysics on CRE biases.  Similar to Fig. 9h-i, CREbiases are shown for shortwave (left) and longwave (right), but only for simulation set 2 (seeTab. 3).  Additionally, it is shown how CRE biases are reduced when resolution is refined (middlerow) and microphysics is switched from the one-moment scheme to the two-moment scheme (bot-tom row).  All other parameters were set equal and the ICON experiment, to which it is switched,is indicated in colored bars.  A reduction of the CRE bias is shown with positive and increasewith negative values."
   ]
  },
  {
   "cell_type": "markdown",
   "metadata": {},
   "source": [
    "![Fig10.jpg](../paper-pics/Fig10.jpg)\n",
    "\n",
    "derived from [21-Improvement_of_Radfluxes_with_Resolution-Set2.ipynb](21-Improvement_of_Radfluxes_with_Resolution-Set2.ipynb)\n",
    "\n",
    "\n",
    "combined with `convert`:\n",
    "\n",
    "```\n",
    "convert -gravity center cre-bias-set2.png cre-bias-reduction-res.png cre-bias-reduction-mu.png cre-bias-legend.png -smush -10 cre-bias-set2-combined.png\n",
    "```\n",
    "\n",
    "\n",
    "***"
   ]
  },
  {
   "cell_type": "markdown",
   "metadata": {},
   "source": [
    "## Fig 11\n",
    "\n",
    "Figure 11: Observed and simulated cloud cover as a function of cloud type (a) as well ascloud cover biases of the simulations with respect to Meteosat observations (b).  Similar to Fig. 5,symbols denote average values and error bars provide confidence intervals."
   ]
  },
  {
   "cell_type": "markdown",
   "metadata": {},
   "source": [
    "![Fig11.jpg](../paper-pics/Fig11.jpg)\n",
    "\n",
    "derived from [06-average_cc-per-ct_plots.ipynb](06-average_cc-per-ct_plots.ipynb)\n",
    "\n",
    "\n",
    "***"
   ]
  },
  {
   "cell_type": "markdown",
   "metadata": {},
   "source": [
    "## Fig 12\n",
    "\n",
    "Figure 12: Observed and simulated (a,b) overcast CREs and (c,d) all-sky CREs for differentcloud types.  Overcast CREs are calculated assuming a hypothetical cloud cover of 100%.  All-sky CREs include weighting by the cloud-type’s specific cloud cover.  Similar to Fig. 5, symbolsdenote average values and error bars provide confidence intervals."
   ]
  },
  {
   "cell_type": "markdown",
   "metadata": {},
   "source": [
    "![Fig12.jpg](../paper-pics/Fig12.jpg)\n",
    "\n",
    "a combination of plots from\n",
    "* [07-overcast_CRE-per-ct_plots.ipynb](07-overcast_CRE-per-ct_plots.ipynb)\n",
    "* [08-allsky_CRE-per-ct_plots.ipynb](08-allsky_CRE-per-ct_plots.ipynb)\n",
    "\n",
    "and use the following `convert`/ `montage` strategy\n",
    "\n",
    "```bash\n",
    "montage -tile 2x1 -trim -geometry +100+0 cre_overcast-vs-ct.png cre_allsky-vs-ct.png cre_overcast_and_allsky-vs-ct.png\n",
    "convert -trim -gravity center cre_overcast_and_allsky-vs-ct.png legend-trim.png -smush 200 cre_overcast_and_allsky-vs-ct_legend.png\n",
    "\n",
    "```\n",
    "\n",
    "\n",
    "***"
   ]
  },
  {
   "cell_type": "markdown",
   "metadata": {},
   "source": [
    "## Fig 13\n",
    "\n",
    "Figure 13: Decomposition of CRE biases (1st row) into contributions from biases in cloudcover (2nd row) and cloud-radiative properties (3rd row).  Co-variations between biases in cloudcover and radiative properties are shown in the 4th row.  The net CRE biases (left column) aredecomposed into shortwave and longwave (middle and right columns) contributions."
   ]
  },
  {
   "cell_type": "markdown",
   "metadata": {},
   "source": [
    "![Fig13.jpg](../paper-pics/Fig13.jpg)\n",
    "\n",
    "derived from [15-CRE-bias_decomposition.ipynb](15-CRE-bias_decomposition.ipynb).\n",
    "\n",
    "***"
   ]
  },
  {
   "cell_type": "markdown",
   "metadata": {},
   "source": [
    "## Fig 14\n",
    "\n",
    "Figure 14: CRE biases and their decomposition for different cloud types.  Following eq. (6),(top row) biases in CREs are separated into (bottom row) contribution from (left) cloud-coverbiases and (right) radiation-flux biases.  The split into (a, d, g) shortwave and (b, e, h) longwavecomponents that sum up to the (c, f, i) net CRE bias is also provided in the different sub-panels.Similar to Fig. 5, symbols denote average values and error bars provide confidence intervals."
   ]
  },
  {
   "cell_type": "markdown",
   "metadata": {},
   "source": [
    "![Fig14.jpg](../paper-pics/Fig14.jpg)\n",
    "\n",
    "also derived from [15-CRE-bias_decomposition.ipynb](15-CRE-bias_decomposition.ipynb)."
   ]
  },
  {
   "cell_type": "markdown",
   "metadata": {},
   "source": [
    "All images are put together with\n",
    "\n",
    "```bash\n",
    "montage -tile 2x1 -trim -geometry +200+0 cre_bias-vs-ct.png legend-vert-l.png cre_bias-vs-ct_legend.png \n",
    "montage -tile 2x1 -trim -geometry +200+0 cre_bias_cloud_fraction_term-vs-ct.png cre_bias_radflux_term-vs-ct.png cre_bias_terms_combined.png\n",
    "convert -trim -gravity center cre_bias-vs-ct_legend.png cre_bias_terms_combined.png -smush 300 cre_biases_combined.png\n",
    "``` "
   ]
  }
 ],
 "metadata": {
  "kernelspec": {
   "display_name": "Python 2",
   "language": "python",
   "name": "python2"
  },
  "language_info": {
   "codemirror_mode": {
    "name": "ipython",
    "version": 2
   },
   "file_extension": ".py",
   "mimetype": "text/x-python",
   "name": "python",
   "nbconvert_exporter": "python",
   "pygments_lexer": "ipython2",
   "version": "2.7.15"
  }
 },
 "nbformat": 4,
 "nbformat_minor": 2
}
