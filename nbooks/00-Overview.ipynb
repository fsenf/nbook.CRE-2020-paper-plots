{
 "cells": [
  {
   "cell_type": "markdown",
   "metadata": {},
   "source": [
    "# Overview of Jupyter Notebooks applied to generate Paper Plots "
   ]
  },
  {
   "cell_type": "markdown",
   "metadata": {},
   "source": [
    "Here, we list all jupyter notebooks that have been run for the plot of the paper: Senf, Voigt, Clerbaux, Hünerbein and Deneke, __On Sensitivities and Convergence of Simulated Radiative Effects of Cloud Systems over the North Atlantic__, in preparation for JGR"
   ]
  },
  {
   "cell_type": "markdown",
   "metadata": {},
   "source": [
    "The image are locally hosted under"
   ]
  },
  {
   "cell_type": "code",
   "execution_count": 3,
   "metadata": {},
   "outputs": [
    {
     "name": "stdout",
     "output_type": "stream",
     "text": [
      "Fig01.jpg\n",
      "Fig02.jpg\n",
      "Fig03.jpg\n",
      "Fig04.jpg\n",
      "Fig05.jpg\n",
      "Fig06.jpg\n",
      "Fig07.jpg\n",
      "Fig08.jpg\n",
      "Fig09.jpg\n",
      "Fig10.jpg\n",
      "Fig11.jpg\n",
      "Fig12.jpg\n",
      "Fig13.jpg\n"
     ]
    }
   ],
   "source": [
    "%%bash\n",
    "\n",
    "ls ../paper-pics/"
   ]
  },
  {
   "cell_type": "markdown",
   "metadata": {},
   "source": [
    "## Fig 1"
   ]
  },
  {
   "cell_type": "markdown",
   "metadata": {},
   "source": [
    "![Fig01.jpg](../paper-pics/Fig01.jpg)\n",
    "\n",
    "made with libreoffice `${HOME}/TROPOS/pub/2018-11_CRE-Nawdex-Aiko/material/flow-chart.odp`\n",
    "\n",
    "***"
   ]
  },
  {
   "cell_type": "markdown",
   "metadata": {},
   "source": [
    "## Fig 2\n"
   ]
  },
  {
   "cell_type": "markdown",
   "metadata": {},
   "source": [
    "![Fig02.jpg](../paper-pics/Fig02.jpg)\n",
    "\n",
    "hosted at DKRZ Mistral at `${HOME}/pub/2018-11_CRE-Nawdex-Aiko/nbooks/01-Overview_table_plots.ipynb`\n",
    "\n",
    "***"
   ]
  },
  {
   "cell_type": "markdown",
   "metadata": {},
   "source": [
    "## Fig 3"
   ]
  },
  {
   "cell_type": "markdown",
   "metadata": {},
   "source": [
    "![Fig03.jpg](../paper-pics/Fig03.jpg)\n",
    "\n",
    "hosted at DKRZ Mistral at `${HOME}//pub/2018-11_CRE-Nawdex-Aiko/nbooks/02-NWCSAF-CT-plot.ipynb`\n",
    "\n",
    "***"
   ]
  },
  {
   "cell_type": "markdown",
   "metadata": {},
   "source": [
    "## Fig 4"
   ]
  },
  {
   "cell_type": "markdown",
   "metadata": {},
   "source": [
    "![Fig04.jpg](../paper-pics/Fig04.jpg)\n",
    "\n",
    "derived from [02-Scaling_of_the_upwarding_clearsky_SWF.ipynb](02-Scaling_of_the_upwarding_clearsky_SWF.ipynb)\n",
    "\n",
    "***"
   ]
  },
  {
   "cell_type": "markdown",
   "metadata": {},
   "source": [
    "## Fig 5"
   ]
  },
  {
   "cell_type": "markdown",
   "metadata": {},
   "source": [
    "![Fig05.jpg](../paper-pics/Fig05.jpg)\n",
    "\n",
    "derived from [01-Calibration_of_estimated_clearsky.ipynb](01-Calibration_of_estimated_clearsky.ipynb)\n",
    "\n",
    "***"
   ]
  },
  {
   "cell_type": "markdown",
   "metadata": {},
   "source": [
    "## Fig 6"
   ]
  },
  {
   "cell_type": "markdown",
   "metadata": {},
   "source": [
    "![Fig06.jpg](../paper-pics/Fig06.jpg)\n",
    "\n",
    "derived from [03-Radiation_flux_budgets.ipynb](03-Radiation_flux_budgets.ipynb)\n",
    "\n",
    "***"
   ]
  },
  {
   "cell_type": "markdown",
   "metadata": {},
   "source": [
    "## Fig 6"
   ]
  },
  {
   "cell_type": "markdown",
   "metadata": {},
   "source": [
    "<img src=\"https://www.overleaf.com/project/5bf2cb8f6015034491ae640b/file/5d96f997ef778700017c956c\", height=50%, width=50% > \n",
    "\n",
    "notebook is still in the `proj` directory under [25-analyzing_radiation_bias_decomposition.ipynb](../../../proj/2017-07_icon-nawdex/nbooks/25-analyzing_radiation_bias_decomposition.ipynb)\n",
    "\n",
    "\n",
    "The figure is post-processed with the local script (on notebook) `./crop_and_merge_fluxdecomp.sh`\n",
    "***"
   ]
  },
  {
   "cell_type": "markdown",
   "metadata": {},
   "source": [
    "## Fig 7"
   ]
  },
  {
   "cell_type": "markdown",
   "metadata": {},
   "source": [
    "<img src=\"https://www.overleaf.com/project/5bf2cb8f6015034491ae640b/file/5d94897b2cf8090001a77517\", height=50%, width=50% > \n",
    "\n",
    "derived from [05-plot_CRE-vs-CC.ipynb](05-plot_CRE-vs-CC.ipynb)\n",
    "\n",
    "***"
   ]
  },
  {
   "cell_type": "markdown",
   "metadata": {},
   "source": [
    "## Fig 8"
   ]
  },
  {
   "cell_type": "markdown",
   "metadata": {},
   "source": [
    "<img src=\"https://www.overleaf.com/project/5bf2cb8f6015034491ae640b/file/5d9491732cf8090001a77c9f\", height=50%, width=50% > \n",
    "\n",
    "derived from [06-average_cc-per-ct_plots.ipynb](06-average_cc-per-ct_plots.ipynb)\n",
    "\n",
    "***"
   ]
  },
  {
   "cell_type": "markdown",
   "metadata": {},
   "source": [
    "## Fig 9"
   ]
  },
  {
   "cell_type": "markdown",
   "metadata": {},
   "source": [
    "<img src=\"https://www.overleaf.com/project/5bf2cb8f6015034491ae640b/file/5d9492a82cf8090001a77d47\", height=50%, width=50% > \n",
    "\n",
    "somewhere in `proj`???\n",
    "***"
   ]
  },
  {
   "cell_type": "markdown",
   "metadata": {},
   "source": [
    "## Fig 10"
   ]
  },
  {
   "cell_type": "markdown",
   "metadata": {},
   "source": [
    "<img src=\"https://www.overleaf.com/project/5bf2cb8f6015034491ae640b/file/5d9492aa2cf8090001a77d4a\", height=50%, width=50% > \n",
    "\n",
    "derived from [07-overcast_CRE-per-ct_plots.ipynb](07-overcast_CRE-per-ct_plots.ipynb)\n",
    "\n",
    "***"
   ]
  },
  {
   "cell_type": "markdown",
   "metadata": {},
   "source": [
    "## Fig 11"
   ]
  },
  {
   "cell_type": "markdown",
   "metadata": {},
   "source": [
    "<img src=\"https://www.overleaf.com/project/5bf2cb8f6015034491ae640b/file/5d9492f52cf8090001a77d9f\", height=50%, width=50% > \n",
    "\n",
    "also derived from [07-overcast_CRE-per-ct_plots.ipynb](07-overcast_CRE-per-ct_plots.ipynb)\n",
    "\n",
    "***"
   ]
  },
  {
   "cell_type": "markdown",
   "metadata": {},
   "source": [
    "## Fig 12"
   ]
  },
  {
   "cell_type": "markdown",
   "metadata": {},
   "source": [
    "<img src=\"https://www.overleaf.com/project/5bf2cb8f6015034491ae640b/file/5d9494c12cf8090001a77e98\", height=50%, width=50% > \n",
    "\n",
    "derived from [08-allsky_CRE-per-ct_plots.ipynb](08-allsky_CRE-per-ct_plots.ipynb)\n",
    "\n",
    "***"
   ]
  },
  {
   "cell_type": "markdown",
   "metadata": {},
   "source": [
    "## Fig 13"
   ]
  },
  {
   "cell_type": "markdown",
   "metadata": {},
   "source": [
    "<img src=\"https://www.overleaf.com/project/5bf2cb8f6015034491ae640b/file/5d9494c22cf8090001a77e9a\", height=50%, width=50% > \n",
    "\n",
    "also derived from [08-allsky_CRE-per-ct_plots.ipynb](08-allsky_CRE-per-ct_plots.ipynb)\n",
    "\n",
    "***"
   ]
  },
  {
   "cell_type": "code",
   "execution_count": null,
   "metadata": {
    "collapsed": true
   },
   "outputs": [],
   "source": []
  }
 ],
 "metadata": {
  "kernelspec": {
   "display_name": "Python 2",
   "language": "python",
   "name": "python2"
  },
  "language_info": {
   "codemirror_mode": {
    "name": "ipython",
    "version": 2
   },
   "file_extension": ".py",
   "mimetype": "text/x-python",
   "name": "python",
   "nbconvert_exporter": "python",
   "pygments_lexer": "ipython2",
   "version": "2.7.15"
  }
 },
 "nbformat": 4,
 "nbformat_minor": 2
}
