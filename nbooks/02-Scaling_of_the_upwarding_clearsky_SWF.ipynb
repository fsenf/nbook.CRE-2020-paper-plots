{
 "cells": [
  {
   "cell_type": "markdown",
   "metadata": {},
   "source": [
    "# Consider Scaling of the Upward-directed SWF for Clearsky"
   ]
  },
  {
   "cell_type": "markdown",
   "metadata": {},
   "source": [
    "We develop curves of SWF upwelling as function of SWF downwelling."
   ]
  },
  {
   "cell_type": "markdown",
   "metadata": {},
   "source": [
    "## Load Standard and User Libraries"
   ]
  },
  {
   "cell_type": "code",
   "execution_count": 1,
   "metadata": {
    "collapsed": true
   },
   "outputs": [],
   "source": [
    "%matplotlib inline\n",
    "\n",
    "import os, sys, copy, glob\n",
    "import numpy as np\n",
    "import datetime\n",
    "import seaborn as sns\n",
    "import pylab as pl\n",
    "import xarray as xr"
   ]
  },
  {
   "cell_type": "code",
   "execution_count": 2,
   "metadata": {
    "collapsed": true
   },
   "outputs": [],
   "source": [
    "pl.rcParams['figure.figsize'] = (16.0, 8.0)\n",
    "pl.rcParams['font.size'] = 18.0\n",
    "pl.rcParams['lines.linewidth'] = 3"
   ]
  },
  {
   "cell_type": "code",
   "execution_count": 3,
   "metadata": {
    "collapsed": true
   },
   "outputs": [],
   "source": [
    "from tropy.standard_config import local_data_path\n",
    "import tropy.analysis_tools.grid_and_interpolation as gi\n",
    "import tropy.analysis_tools.statistics as stats"
   ]
  },
  {
   "cell_type": "code",
   "execution_count": 4,
   "metadata": {
    "collapsed": true
   },
   "outputs": [],
   "source": [
    "import nawdex_analysis.analysis.ave_cre\n",
    "import nawdex_analysis.io.collector\n",
    "\n",
    "from nawdex_analysis.plot.exp_layout import get_exp_kws\n"
   ]
  },
  {
   "cell_type": "markdown",
   "metadata": {},
   "source": [
    "## Collect Data"
   ]
  },
  {
   "cell_type": "code",
   "execution_count": 5,
   "metadata": {
    "collapsed": true
   },
   "outputs": [],
   "source": [
    "rset = nawdex_analysis.io.collector.get_radflux4set( 'all', method = 'strict'  )\n"
   ]
  },
  {
   "cell_type": "markdown",
   "metadata": {},
   "source": [
    "## Scale Clearsky"
   ]
  },
  {
   "cell_type": "code",
   "execution_count": 6,
   "metadata": {
    "collapsed": true
   },
   "outputs": [],
   "source": [
    "scaling_factor = 0.88"
   ]
  },
  {
   "cell_type": "code",
   "execution_count": 7,
   "metadata": {
    "collapsed": true
   },
   "outputs": [],
   "source": [
    "nawdex_analysis.analysis.ave_cre.radflux2cre( rset, scaling = True, new_factor = scaling_factor, old_factor = 0.9 )"
   ]
  },
  {
   "cell_type": "code",
   "execution_count": 8,
   "metadata": {
    "collapsed": true
   },
   "outputs": [],
   "source": [
    "idlist = list( rset.idname.data )\n",
    "#idlist.remove('msevi-scaled')\n"
   ]
  },
  {
   "cell_type": "code",
   "execution_count": 9,
   "metadata": {
    "collapsed": true
   },
   "outputs": [],
   "source": [
    "rclear = rset.sel(ct = 'clear_ocean', idname = idlist)\n"
   ]
  },
  {
   "cell_type": "markdown",
   "metadata": {},
   "source": [
    "## Do Conditional Analysis"
   ]
  },
  {
   "cell_type": "code",
   "execution_count": 10,
   "metadata": {
    "collapsed": true
   },
   "outputs": [],
   "source": [
    "cond = xr.Dataset()\n",
    "\n",
    "bins = np.linspace(0,1000,11)\n",
    "percentiles = [10, 25, 50, 75, 90]\n",
    "\n",
    "mbins = gi.lmean(bins)\n",
    "\n",
    "idlist.remove('msevi-scaled')\n",
    "idlist.remove('msevi-not_scaled')\n",
    "\n",
    "idlist.insert(0, 'msevi-scaled')\n",
    "\n",
    "for i, idname in enumerate( idlist ): \n",
    "\n",
    "    v1 = -rclear.sel(idname = idname)['swf_down']\n",
    "    v2 = rclear.sel(idname = idname)['swf_up']\n",
    "    \n",
    "    # calculate conditioned statistics\n",
    "    mbins = gi.lmean(bins)\n",
    "    v2p = stats.cond_perc_simple(v1, v2, bins, p=percentiles)\n",
    "\n",
    "    cond[idname] = xr.DataArray(v2p, coords=[percentiles, mbins], dims=['percentiles', 'bins'])\n"
   ]
  },
  {
   "cell_type": "code",
   "execution_count": 11,
   "metadata": {
    "collapsed": true
   },
   "outputs": [],
   "source": [
    "idlist.insert(0, 'icon-scaled')\n",
    "\n",
    "cond['icon-scaled'] = cond['10km_oneMom_Conv'].copy() * scaling_factor "
   ]
  },
  {
   "cell_type": "code",
   "execution_count": 12,
   "metadata": {},
   "outputs": [
    {
     "data": {
      "text/plain": [
       "<xarray.Dataset>\n",
       "Dimensions:            (bins: 10, percentiles: 5)\n",
       "Coordinates:\n",
       "  * percentiles        (percentiles) int64 10 25 50 75 90\n",
       "  * bins               (bins) float64 50.0 150.0 250.0 ... 750.0 850.0 950.0\n",
       "Data variables:\n",
       "    msevi-scaled       (percentiles, bins) float64 0.0 29.54 ... 92.14 93.95\n",
       "    10km_oneMom_Conv   (percentiles, bins) float64 0.0 26.57 ... 105.9 109.0\n",
       "    10km_twoMom_Conv   (percentiles, bins) float64 0.0 27.27 ... 105.0 107.0\n",
       "    20km_oneMom_Conv   (percentiles, bins) float64 0.0 29.04 ... 106.7 110.1\n",
       "    20km_twoMom_Conv   (percentiles, bins) float64 0.0 27.43 ... 105.4 108.3\n",
       "    2km_oneMom_noConv  (percentiles, bins) float64 0.0 26.72 ... 111.4 110.2\n",
       "    2km_oneMom_shConv  (percentiles, bins) float64 0.0 27.72 ... 104.1 106.5\n",
       "    2km_twoMom_noConv  (percentiles, bins) float64 0.0 25.16 ... 112.4 111.3\n",
       "    2km_twoMom_shConv  (percentiles, bins) float64 0.0 25.34 ... 102.5 107.5\n",
       "    40km_oneMom_Conv   (percentiles, bins) float64 0.0 27.91 ... 108.2 110.9\n",
       "    40km_twoMom_Conv   (percentiles, bins) float64 0.0 27.16 ... 105.7 107.4\n",
       "    5km_oneMom_Conv    (percentiles, bins) float64 0.0 26.3 ... 103.1 107.7\n",
       "    5km_twoMom_Conv    (percentiles, bins) float64 0.0 25.44 ... 102.9 107.0\n",
       "    80km_oneMom_Conv   (percentiles, bins) float64 0.0 28.6 ... 108.1 111.9\n",
       "    80km_twoMom_Conv   (percentiles, bins) float64 0.0 28.54 ... 103.6 106.3\n",
       "    icon-scaled        (percentiles, bins) float64 0.0 23.38 ... 93.21 95.93"
      ]
     },
     "execution_count": 12,
     "metadata": {},
     "output_type": "execute_result"
    }
   ],
   "source": [
    "cond"
   ]
  },
  {
   "cell_type": "markdown",
   "metadata": {},
   "source": [
    "## Plot Downwelling vs. Upwelling SWF "
   ]
  },
  {
   "cell_type": "code",
   "execution_count": 13,
   "metadata": {},
   "outputs": [
    {
     "data": {
      "image/png": "[encoded data removed]",
      "text/plain": [
       "<Figure size 576x288 with 1 Axes>"
      ]
     },
     "metadata": {
      "needs_background": "light"
     },
     "output_type": "display_data"
    }
   ],
   "source": [
    "pl.figure( figsize = (8,4))\n",
    "\n",
    "nvars = len(idlist)\n",
    "scal = 5\n",
    "offset = -scal * nvars / 2.\n",
    "\n",
    "for i, idname in enumerate( idlist ): \n",
    "    kws = get_exp_kws( idname, ptype = 'points' )\n",
    "    kws['linewidth'] = 2\n",
    "    \n",
    "    if idname == 'icon-scaled':\n",
    "        kws['linestyle'] = '--'\n",
    "        kws['color'] = 'k'\n",
    "    \n",
    "    # calculate conditioned statistics\n",
    "    mbins = cond['bins'].data\n",
    "    v2p = cond[idname].data\n",
    "    \n",
    "    ymed = v2p[2]\n",
    "    yerr = np.abs( v2p[[1,3]] - v2p[2] )\n",
    "    \n",
    "    # use shifted bins for visualization\n",
    "    sbins = mbins + scal * i + offset\n",
    "    ys = np.interp(sbins, mbins, ymed)\n",
    "    \n",
    "    \n",
    "    \n",
    "    pl.errorbar(sbins, ys, yerr = yerr, label = idname, **kws)\n",
    "    \n",
    "sns.despine()\n",
    "pl.xlabel('$|F_\\mathrm{sw, down}|$ ($\\mathrm{W\\,m^{-2}}$)')  \n",
    "pl.ylabel('$F_\\mathrm{sw, up}$ ($\\mathrm{W\\,m^{-2}}$)')  \n",
    "\n",
    "pl.subplots_adjust(bottom = 0.2)\n",
    "pl.savefig('../pics/scaling_of_upwelling_clearsky.png', dpi = 300)\n",
    "\n",
    "#pl.legend(loc = 'center right', bbox_to_anchor=(1.3, 0.5) )"
   ]
  },
  {
   "cell_type": "code",
   "execution_count": 18,
   "metadata": {},
   "outputs": [
    {
     "name": "stdout",
     "output_type": "stream",
     "text": [
      "icon-scaled\n",
      "{'linewidth': 2, 'color': 'k', 'markersize': 8, 'linestyle': '--'}\n",
      "msevi-scaled\n",
      "{'color': 'k', 'markersize': 10, 'zorder': 10, 'marker': 'D', 'linewidth': 2, 'linestyle': '-'}\n",
      "10km_oneMom_Conv\n",
      "{'color': '#7d8111', 'marker': 'o', 'markersize': 8, 'linewidth': 2, 'fillstyle': 'full'}\n"
     ]
    },
    {
     "data": {
      "image/png": "[encoded data removed]",
      "text/plain": [
       "<Figure size 576x288 with 1 Axes>"
      ]
     },
     "metadata": {
      "needs_background": "light"
     },
     "output_type": "display_data"
    }
   ],
   "source": [
    "pl.figure( figsize = (8,4))\n",
    "\n",
    "nvars = len(idlist)\n",
    "scal = 5\n",
    "offset = -scal * nvars / 2.\n",
    "\n",
    "for i, idname in enumerate( idlist ): \n",
    "    \n",
    "   \n",
    "    kws = get_exp_kws( idname, ptype = 'points' )\n",
    "    kws['linewidth'] = 2\n",
    "    \n",
    "    if idname == 'icon-scaled':\n",
    "        kws['linestyle'] = '--'\n",
    "        kws['color'] = 'k'\n",
    "    \n",
    "    \n",
    "    # calculate conditioned statistics\n",
    "    mbins = cond['bins'].data\n",
    "    v2p = cond[idname].data\n",
    "    \n",
    "    ymed = v2p[2]\n",
    "    yerr = np.abs( v2p[[1,3]] - v2p[2] )\n",
    "    \n",
    "    # use shifted bins for visualization\n",
    "    sbins = mbins + scal * i + offset\n",
    "    \n",
    "    # no shifted bins\n",
    "    sbins = mbins\n",
    "    ys = np.interp(sbins, mbins, ymed)\n",
    "    \n",
    "    if idname not in ['msevi-scaled', '10km_oneMom_Conv', 'icon-scaled']:\n",
    "        kws['color'] = 'gray'\n",
    "        kws['linestyle'] = '-'\n",
    "        kws['alpha'] = 0.1\n",
    "        kws['marker'] = None\n",
    "        yerr = 0\n",
    "    else:\n",
    "        print(idname)\n",
    "        print(kws)\n",
    "    \n",
    "    pl.errorbar(sbins, ys, yerr = yerr, label = idname, **kws)\n",
    "    \n",
    "sns.despine()\n",
    "pl.xlabel('$|F_\\mathrm{sw, down}|$ ($\\mathrm{W\\,m^{-2}}$)')  \n",
    "pl.ylabel('$F_\\mathrm{sw, up}$ ($\\mathrm{W\\,m^{-2}}$)')  \n",
    "\n",
    "pl.subplots_adjust(bottom = 0.2)\n",
    "pl.savefig('../pics/scaling_of_upwelling_clearsky.png', dpi = 300)\n",
    "\n",
    "#pl.legend(loc = 'center right', bbox_to_anchor=(1.3, 0.5) )"
   ]
  },
  {
   "cell_type": "code",
   "execution_count": 15,
   "metadata": {},
   "outputs": [
    {
     "data": {
      "text/plain": [
       "<xarray.Dataset>\n",
       "Dimensions:            (bins: 10, percentiles: 5)\n",
       "Coordinates:\n",
       "  * percentiles        (percentiles) int64 10 25 50 75 90\n",
       "  * bins               (bins) float64 50.0 150.0 250.0 ... 750.0 850.0 950.0\n",
       "Data variables:\n",
       "    msevi-scaled       (percentiles, bins) float64 0.0 29.54 ... 92.14 93.95\n",
       "    10km_oneMom_Conv   (percentiles, bins) float64 0.0 26.57 ... 105.9 109.0\n",
       "    10km_twoMom_Conv   (percentiles, bins) float64 0.0 27.27 ... 105.0 107.0\n",
       "    20km_oneMom_Conv   (percentiles, bins) float64 0.0 29.04 ... 106.7 110.1\n",
       "    20km_twoMom_Conv   (percentiles, bins) float64 0.0 27.43 ... 105.4 108.3\n",
       "    2km_oneMom_noConv  (percentiles, bins) float64 0.0 26.72 ... 111.4 110.2\n",
       "    2km_oneMom_shConv  (percentiles, bins) float64 0.0 27.72 ... 104.1 106.5\n",
       "    2km_twoMom_noConv  (percentiles, bins) float64 0.0 25.16 ... 112.4 111.3\n",
       "    2km_twoMom_shConv  (percentiles, bins) float64 0.0 25.34 ... 102.5 107.5\n",
       "    40km_oneMom_Conv   (percentiles, bins) float64 0.0 27.91 ... 108.2 110.9\n",
       "    40km_twoMom_Conv   (percentiles, bins) float64 0.0 27.16 ... 105.7 107.4\n",
       "    5km_oneMom_Conv    (percentiles, bins) float64 0.0 26.3 ... 103.1 107.7\n",
       "    5km_twoMom_Conv    (percentiles, bins) float64 0.0 25.44 ... 102.9 107.0\n",
       "    80km_oneMom_Conv   (percentiles, bins) float64 0.0 28.6 ... 108.1 111.9\n",
       "    80km_twoMom_Conv   (percentiles, bins) float64 0.0 28.54 ... 103.6 106.3\n",
       "    icon-scaled        (percentiles, bins) float64 0.0 23.38 ... 93.21 95.93"
      ]
     },
     "execution_count": 15,
     "metadata": {},
     "output_type": "execute_result"
    }
   ],
   "source": [
    "cond"
   ]
  },
  {
   "cell_type": "code",
   "execution_count": null,
   "metadata": {
    "collapsed": true
   },
   "outputs": [],
   "source": []
  }
 ],
 "metadata": {
  "kernelspec": {
   "display_name": "Python 2",
   "language": "python",
   "name": "python2"
  },
  "language_info": {
   "codemirror_mode": {
    "name": "ipython",
    "version": 2
   },
   "file_extension": ".py",
   "mimetype": "text/x-python",
   "name": "python",
   "nbconvert_exporter": "python",
   "pygments_lexer": "ipython2",
   "version": "2.7.15"
  }
 },
 "nbformat": 4,
 "nbformat_minor": 2
}
