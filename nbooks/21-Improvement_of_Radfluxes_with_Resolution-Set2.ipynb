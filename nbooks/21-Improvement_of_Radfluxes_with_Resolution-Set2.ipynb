{
 "cells": [
  {
   "cell_type": "markdown",
   "metadata": {},
   "source": [
    "# How do Radiation Biases Improve When Decreasing the Resolution?"
   ]
  },
  {
   "cell_type": "markdown",
   "metadata": {},
   "source": [
    "The biases in simulated radiation fluxes are decomposed into different components coming from clearsky and CREs.\n",
    "\n",
    "For the net flux, we have\n",
    "\n",
    "$$\n",
    "\\delta \\overline{F_\\mathrm{net}} = \n",
    "    \\delta \\overline{F_{\\mathrm{net, clear}}} - \n",
    "    \\delta \\mathrm{CRE_{net}}\\,.\n",
    "$$\n",
    "\n",
    "where $\\delta$ denotes the bias, i.e. the difference between simulations and observations."
   ]
  },
  {
   "cell_type": "code",
   "execution_count": 319,
   "metadata": {},
   "outputs": [],
   "source": [
    "%matplotlib inline\n",
    "\n",
    "import os, sys, copy, glob\n",
    "import numpy as np\n",
    "import datetime\n",
    "import pylab as pl\n",
    "import xarray as xr\n",
    "import pandas as pd\n",
    "import string\n",
    "import seaborn as sns\n"
   ]
  },
  {
   "cell_type": "code",
   "execution_count": 320,
   "metadata": {},
   "outputs": [],
   "source": [
    "from nawdex_analysis.config import nawdex_dir\n",
    "import nawdex_analysis.io.collector"
   ]
  },
  {
   "cell_type": "code",
   "execution_count": 321,
   "metadata": {},
   "outputs": [],
   "source": [
    "from  nawdex_analysis.plot.stacked_analysis_plots import hor_barplot_exp_plot\n",
    "from nawdex_analysis.plot.legend import plegend\n",
    "import nawdex_analysis.analysis.ave_cre"
   ]
  },
  {
   "cell_type": "code",
   "execution_count": 322,
   "metadata": {},
   "outputs": [],
   "source": [
    "pl.rcParams['figure.figsize'] = (16.0, 8.0)\n",
    "pl.rcParams['font.size'] = 18.0\n",
    "pl.rcParams['lines.linewidth'] = 3\n"
   ]
  },
  {
   "cell_type": "markdown",
   "metadata": {},
   "source": [
    "## Read Data"
   ]
  },
  {
   "cell_type": "code",
   "execution_count": 323,
   "metadata": {},
   "outputs": [],
   "source": [
    "fdir = '%s/statistics' % nawdex_dir\n",
    "fname = '%s/radflux_decomposition_set2.nc' % fdir\n",
    "\n",
    "dset = xr.open_dataset( fname )"
   ]
  },
  {
   "cell_type": "markdown",
   "metadata": {},
   "source": [
    "## Average Biases "
   ]
  },
  {
   "cell_type": "code",
   "execution_count": 324,
   "metadata": {},
   "outputs": [
    {
     "data": {
      "text/plain": [
       "<xarray.Dataset>\n",
       "Dimensions:    (component: 6, idname: 22)\n",
       "Coordinates:\n",
       "  * idname     (idname) |S18 '10km_oneMom_Conv' ... 'msevi-scaled'\n",
       "  * component  (component) |S19 'ave_bias' 'cloud_fraction_term' ... 'cre_bias'\n",
       "Data variables:\n",
       "    net        (component, idname) float64 7.698 27.67 9.385 ... -6.702 0.0\n",
       "    longwave   (component, idname) float64 8.215 5.312 9.693 ... -2.009 0.0\n",
       "    shortwave  (component, idname) float64 -0.5171 22.35 -0.308 ... -4.693 0.0"
      ]
     },
     "execution_count": 324,
     "metadata": {},
     "output_type": "execute_result"
    }
   ],
   "source": [
    "aveset = dset.sum('ct')\n",
    "aveset"
   ]
  },
  {
   "cell_type": "markdown",
   "metadata": {},
   "source": [
    "## Reshape Bias Data for Plotting"
   ]
  },
  {
   "cell_type": "code",
   "execution_count": 325,
   "metadata": {},
   "outputs": [],
   "source": [
    "dlist = []\n",
    "vlist = ['net', 'shortwave', 'longwave']\n",
    "\n",
    "for vname in vlist:\n",
    "    d = aveset[vname].expand_dims('var')\n",
    "    d['var'] = [ vname, ]\n",
    "    \n",
    "    dlist += [ d.copy(), ]\n",
    "dvar = xr.concat( dlist, dim = 'var')\n",
    "#.rename({'net' : 'biases'})"
   ]
  },
  {
   "cell_type": "code",
   "execution_count": 329,
   "metadata": {},
   "outputs": [
    {
     "data": {
      "text/plain": [
       "<xarray.Dataset>\n",
       "Dimensions:    (component: 6, idname: 22)\n",
       "Coordinates:\n",
       "  * idname     (idname) |S18 '10km_oneMom_Conv' ... 'msevi-scaled'\n",
       "  * component  (component) |S19 'ave_bias' 'cloud_fraction_term' ... 'cre_bias'\n",
       "    var        |S3 'net'\n",
       "Data variables:\n",
       "    abs_bias   (component, idname) float64 7.698 27.67 9.385 ... -6.702 0.0"
      ]
     },
     "execution_count": 329,
     "metadata": {},
     "output_type": "execute_result"
    }
   ],
   "source": [
    "dcomb = xr.Dataset()\n",
    "dcomb['abs_bias'] = dvar\n",
    "\n",
    "dcomb.sel(var = 'net')"
   ]
  },
  {
   "cell_type": "code",
   "execution_count": 327,
   "metadata": {},
   "outputs": [
    {
     "data": {
      "text/plain": [
       "array(['ave_bias', 'cloud_fraction_term', 'radflux_term', 'cross_term',\n",
       "       'clear_bias', 'cre_bias'], dtype='|S19')"
      ]
     },
     "execution_count": 327,
     "metadata": {},
     "output_type": "execute_result"
    }
   ],
   "source": [
    "dcomb.component.data"
   ]
  },
  {
   "cell_type": "code",
   "execution_count": 328,
   "metadata": {},
   "outputs": [],
   "source": [
    "vlist = ['net', 'shortwave', 'longwave']\n",
    "complist = ['ave_bias', 'cloud_fraction_term', 'radflux_term', 'cross_term',\n",
    "       'clear_bias', 'cre_bias']\n",
    "\n",
    "idlist = list ( dcomb.idname.data )\n",
    "idlist.remove('msevi-scaled')\n",
    "idlist.remove('msevi-not_scaled')\n"
   ]
  },
  {
   "cell_type": "code",
   "execution_count": 331,
   "metadata": {},
   "outputs": [
    {
     "data": {
      "image/png": "[encoded data removed]",
      "text/plain": [
       "<Figure size 1296x288 with 2 Axes>"
      ]
     },
     "metadata": {
      "needs_background": "light"
     },
     "output_type": "display_data"
    }
   ],
   "source": [
    "complist = ['cre_bias']\n",
    "ylabs = ['$\\delta \\mathrm{CRE}$ \\n $(\\mathrm{W\\,m^{-2}})$']\n",
    "vlist = [ 'shortwave', 'longwave']\n",
    "\n",
    "\n",
    "fig, ax = pl.subplots( nrows = 1, ncols = 2, figsize = (18,4), sharex = True, sharey = True )\n",
    "pl.subplots_adjust( left = 0.3, bottom = 0.2, right = 0.8, top = 0.8 )\n",
    "ax = np.array([ax,])\n",
    "\n",
    "abc = string.ascii_lowercase\n",
    "\n",
    "n = 0\n",
    "for i, compname in enumerate( complist ):\n",
    "    for j, vname in enumerate( vlist ):\n",
    "        pl.sca( ax[i,j] )\n",
    "        \n",
    "        # we switch sign because - delta CRE appears in the flux decomposition !!!\n",
    "        hor_barplot_exp_plot( -dcomb.sel(var = vname), 'abs_bias', catlist = [compname, ], \n",
    "                      icount0 = 0,  idlist = idlist, \n",
    "                      iddim='idname', catdim = 'component', \n",
    "                      obsref_name='msevi-scaled', doffset=0.05, offset0=-0.4, make_labels=True)\n",
    "        \n",
    "        xlim = pl.xlim()\n",
    "        \n",
    "        pl.text( (0.2* xlim[1] + 0.8* xlim[0]) , 19, '(%s)' % abc[n], va = 'center', ha = 'center')\n",
    "        pl.xticks([])\n",
    "        \n",
    "        n += 1\n",
    "        \n",
    "    \n",
    "\n",
    "for j, vname in enumerate( vlist ):\n",
    "    pl.sca( ax[0, j])\n",
    "    pl.title('%s' % vname, fontweight = 'bold')\n",
    "    \n",
    "for i, compname in enumerate( complist ):\n",
    "    a = ax[i, 0]\n",
    "    pl.sca( a )\n",
    "    \n",
    "    apos = a.get_position()\n",
    "    pl.figtext(apos.x0 - 0.05, apos.y0 + apos.height / 2., ylabs[i],\n",
    "                ha = 'right', fontsize = 'large')\n",
    "\n",
    "    \n",
    "## dummy items\n",
    "\n",
    "# pl.bar([0], [0], color='w', alpha=0, label=' ', zorder = 10)\n",
    "\n",
    "#plegend(loc = 'lower center', ncol = 3, bbox_to_anchor = (1., -1.4), fontsize = 'medium' )\n",
    "\n",
    "sns.despine()\n",
    "pl.savefig('../pics/cre-bias-set2.png', dpi = 300)"
   ]
  },
  {
   "cell_type": "markdown",
   "metadata": {},
   "source": [
    "## Print again only for the Legend"
   ]
  },
  {
   "cell_type": "code",
   "execution_count": 306,
   "metadata": {},
   "outputs": [
    {
     "data": {
      "image/png": "[encoded data removed]",
      "text/plain": [
       "<Figure size 864x288 with 2 Axes>"
      ]
     },
     "metadata": {
      "needs_background": "light"
     },
     "output_type": "display_data"
    }
   ],
   "source": [
    "complist = ['cre_bias']\n",
    "ylabs = ['$-\\delta \\mathrm{CRE}$ \\n $(\\mathrm{W\\,m^{-2}})$']\n",
    "vlist = [ 'shortwave', 'longwave']\n",
    "\n",
    "\n",
    "fig, ax = pl.subplots( nrows = 1, ncols = 2, figsize = (12,4), sharex = True, sharey = True )\n",
    "pl.subplots_adjust( left = 0.2, bottom = 0.7, right = 0.8, top = 0.8 )\n",
    "ax = np.array([ax,])\n",
    "\n",
    "abc = string.ascii_lowercase\n",
    "\n",
    "n = 0\n",
    "for i, compname in enumerate( complist ):\n",
    "    for j, vname in enumerate( vlist ):\n",
    "        pl.sca( ax[i,j] )\n",
    "        hor_barplot_exp_plot( dcomb.sel(var = vname), 'abs_bias', catlist = [compname, ], \n",
    "                      icount0 = 0,  idlist = idlist, \n",
    "                      iddim='idname', catdim = 'component', \n",
    "                      obsref_name='msevi-scaled', doffset=0.05, offset0=-0.4, make_labels=True)\n",
    "        \n",
    "        xlim = pl.xlim()\n",
    "        \n",
    "        pl.text( (0.2* xlim[1] + 0.8* xlim[0]) , 19, '(%s)' % abc[n], va = 'center', ha = 'center')\n",
    "        pl.xticks([])\n",
    "        \n",
    "        n += 1\n",
    "        \n",
    "    \n",
    "\n",
    "for j, vname in enumerate( vlist ):\n",
    "    pl.sca( ax[0, j])\n",
    "    pl.title('%s' % vname, fontweight = 'bold')\n",
    "    \n",
    "for i, compname in enumerate( complist ):\n",
    "    a = ax[i, 0]\n",
    "    pl.sca( a )\n",
    "    \n",
    "    apos = a.get_position()\n",
    "    pl.figtext(apos.x0 - 0.05, apos.y0 + apos.height / 2., ylabs[i],\n",
    "                ha = 'right', fontsize = 'large')\n",
    "\n",
    "    \n",
    "## dummy items\n",
    "\n",
    "# pl.bar([0], [0], color='w', alpha=0, label=' ', zorder = 10)\n",
    "\n",
    "plegend(loc = 'lower center', ncol = 3, bbox_to_anchor = (1., -7), fontsize = 'medium' )\n",
    "\n",
    "sns.despine()\n",
    "pl.savefig('../pics/cre-bias-set2-4legend.png', dpi = 300)"
   ]
  },
  {
   "cell_type": "code",
   "execution_count": 307,
   "metadata": {},
   "outputs": [
    {
     "data": {
      "text/plain": [
       "array(['10km_oneMom_Conv', '10km_oneMom_noConv', '10km_twoMom_Conv',\n",
       "       '10km_twoMom_noConv', '20km_oneMom_Conv', '20km_twoMom_Conv',\n",
       "       '2km_oneMom_Conv', '2km_oneMom_noConv', '2km_oneMom_shConv',\n",
       "       '2km_twoMom_Conv', '2km_twoMom_noConv', '2km_twoMom_shConv',\n",
       "       '40km_oneMom_Conv', '40km_twoMom_Conv', '5km_oneMom_Conv',\n",
       "       '5km_oneMom_noConv', '5km_twoMom_Conv', '5km_twoMom_noConv',\n",
       "       '80km_oneMom_Conv', '80km_twoMom_Conv', 'msevi-not_scaled',\n",
       "       'msevi-scaled'], dtype='|S18')"
      ]
     },
     "execution_count": 307,
     "metadata": {},
     "output_type": "execute_result"
    }
   ],
   "source": [
    "dcomb.idname.data"
   ]
  },
  {
   "cell_type": "code",
   "execution_count": 308,
   "metadata": {},
   "outputs": [],
   "source": [
    "idlist = ['10km_oneMom_Conv', '10km_twoMom_Conv', '20km_oneMom_Conv',\n",
    "       '20km_twoMom_Conv', '40km_oneMom_Conv',\n",
    "       '40km_twoMom_Conv', '5km_oneMom_Conv', '5km_twoMom_Conv',]\n",
    "\n",
    "idlist = ['10km_oneMom_Conv', '10km_twoMom_Conv',\n",
    "          '20km_oneMom_Conv', '20km_twoMom_Conv',\n",
    "           '2km_oneMom_Conv', '2km_oneMom_noConv', \n",
    "           '2km_twoMom_Conv', '2km_twoMom_noConv', \n",
    "           '40km_oneMom_Conv', '40km_twoMom_Conv', '5km_oneMom_Conv',\n",
    "           '5km_oneMom_noConv', '5km_twoMom_Conv', '5km_twoMom_noConv',\n",
    "           ]\n",
    "\n",
    "# dcomb = dcomb.sel( idname = idlist )"
   ]
  },
  {
   "cell_type": "markdown",
   "metadata": {},
   "source": [
    "## Absolute Changes in BIAS - Resolution Dependence"
   ]
  },
  {
   "cell_type": "code",
   "execution_count": 309,
   "metadata": {},
   "outputs": [],
   "source": [
    "twin_map = {'2km':'5km',\n",
    "            '5km': '10km', \n",
    "            '10km': '20km', \n",
    "            '20km': '40km', \n",
    "            '40km': '80km'}\n",
    "\n",
    "diff_list = [dcomb.sel( idname = ['msevi-scaled', ])]\n",
    "for idname in idlist:\n",
    "    d = dcomb.sel( idname = idname )\n",
    "    \n",
    "    res = idname.split('_')[0]\n",
    "    twinname = idname.replace(res, twin_map[res] )\n",
    "    twin = dcomb.sel( idname = twinname )\n",
    "    \n",
    "    # m = np.abs( d ) < np.abs( twin )\n",
    "    #sign = xr.ones_like( d ).where( m, -1 )   \n",
    "    #diff = sign * np.abs(d - twin)\n",
    "    \n",
    "    diff = np.abs(twin) - np.abs(d)\n",
    "    diff = diff.expand_dims('idname')\n",
    "    diff['idname'] = [idname, ]\n",
    "    \n",
    "    diff_list += [ diff, ]\n",
    "    \n",
    "dcomb_res = xr.merge( diff_list )\n"
   ]
  },
  {
   "cell_type": "code",
   "execution_count": 310,
   "metadata": {},
   "outputs": [
    {
     "data": {
      "text/plain": [
       "<xarray.Dataset>\n",
       "Dimensions:    (component: 6, idname: 15, var: 3)\n",
       "Coordinates:\n",
       "  * idname     (idname) object '10km_oneMom_Conv' ... 'msevi-scaled'\n",
       "  * component  (component) |S19 'ave_bias' 'cloud_fraction_term' ... 'cre_bias'\n",
       "  * var        (var) object 'net' 'shortwave' 'longwave'\n",
       "Data variables:\n",
       "    abs_bias   (var, component, idname) float64 -0.5896 -0.7998 ... 0.7408 0.0"
      ]
     },
     "execution_count": 310,
     "metadata": {},
     "output_type": "execute_result"
    }
   ],
   "source": [
    "dcomb_res"
   ]
  },
  {
   "cell_type": "markdown",
   "metadata": {},
   "source": [
    "### Plot the Bias Decomposition Matrix"
   ]
  },
  {
   "cell_type": "code",
   "execution_count": 311,
   "metadata": {
    "scrolled": true
   },
   "outputs": [
    {
     "data": {
      "image/png": "[encoded data removed]",
      "text/plain": [
       "<Figure size 1296x288 with 2 Axes>"
      ]
     },
     "metadata": {
      "needs_background": "light"
     },
     "output_type": "display_data"
    }
   ],
   "source": [
    "complist = ['cre_bias']\n",
    "ylabs = ['$\\delta \\mathrm{CRE}$-reduction\\n     $(\\mathrm{W\\,m^{-2}})$        ']\n",
    "\n",
    "fig, ax = pl.subplots( nrows = 1, ncols = 2, figsize = (18,4), sharex = True, sharey = True )\n",
    "pl.subplots_adjust( left = 0.3, bottom = 0.2, right = 0.8, top = 0.8 )\n",
    "ax = np.array( [ax,] )\n",
    "abc = string.ascii_lowercase\n",
    "\n",
    "n = 0\n",
    "for i, compname in enumerate( complist ):\n",
    "    for j, vname in enumerate( vlist ):\n",
    "        pl.sca( ax[i,j] )\n",
    "        hor_barplot_exp_plot( dcomb_res.sel(var = vname), 'abs_bias', catlist = [compname, ], \n",
    "                      icount0 = 0,  idlist = idlist, \n",
    "                      iddim='idname', catdim = 'component', \n",
    "                      obsref_name='msevi-scaled', doffset=0.05, offset0=-0.2, make_labels=True)\n",
    "        \n",
    "        xlim = pl.xlim()\n",
    "        \n",
    "        pl.text( (0.2*xlim[1] + 0.8*xlim[0]) , 7, '(%s)' % abc[n+2], va = 'center', ha = 'center')\n",
    "        pl.xticks([])\n",
    "        \n",
    "        n += 1\n",
    "        \n",
    "    \n",
    "\n",
    "for j, vname in enumerate( vlist ):\n",
    "    pl.sca( ax[0, j])\n",
    "#    pl.title('%s' % vname, fontweight = 'bold', pad = 30)\n",
    "    \n",
    "for i, compname in enumerate( complist ):\n",
    "    a = ax[i, 0]\n",
    "    pl.sca( a )\n",
    "    \n",
    "    apos = a.get_position()\n",
    "    pl.figtext(apos.x0 - 0.1, apos.y0 + 0.4*apos.height, ylabs[i], \n",
    "                ha = 'center', fontsize = 'large')\n",
    "\n",
    "pl.suptitle(r'Refining Resolution, 2x km $\\to$ x km', fontsize = 'large', fontweight = 'bold')\n",
    "## dummy items\n",
    "\n",
    "\n",
    "#plegend(loc = 'lower center', ncol = 4, bbox_to_anchor = (1.6, -0.7), fontsize = 'medium' )\n",
    "\n",
    "sns.despine()\n",
    "pl.savefig('../pics/cre-bias-reduction-res.png', dpi = 300)"
   ]
  },
  {
   "cell_type": "markdown",
   "metadata": {},
   "source": [
    "## Absolute Changes in BIAS - Microphysics Dependence"
   ]
  },
  {
   "cell_type": "code",
   "execution_count": 312,
   "metadata": {},
   "outputs": [],
   "source": [
    "twomom_list = []\n",
    "\n",
    "for idname in dcomb.idname.data:\n",
    "    if 'twoMom' in idname:\n",
    "        twomom_list += [idname, ]"
   ]
  },
  {
   "cell_type": "code",
   "execution_count": 313,
   "metadata": {},
   "outputs": [
    {
     "data": {
      "text/plain": [
       "['10km_twoMom_Conv',\n",
       " '10km_twoMom_noConv',\n",
       " '20km_twoMom_Conv',\n",
       " '2km_twoMom_Conv',\n",
       " '2km_twoMom_noConv',\n",
       " '2km_twoMom_shConv',\n",
       " '40km_twoMom_Conv',\n",
       " '5km_twoMom_Conv',\n",
       " '5km_twoMom_noConv',\n",
       " '80km_twoMom_Conv']"
      ]
     },
     "execution_count": 313,
     "metadata": {},
     "output_type": "execute_result"
    }
   ],
   "source": [
    "idlist = twomom_list\n",
    "idlist"
   ]
  },
  {
   "cell_type": "code",
   "execution_count": 314,
   "metadata": {},
   "outputs": [],
   "source": [
    "twin_map = {'twoMom':'oneMom',}\n",
    "\n",
    "diff_list = [dcomb.sel( idname = ['msevi-scaled', ])]\n",
    "for idname in idlist:\n",
    "    d = dcomb.sel( idname = idname )\n",
    "    \n",
    "    mu = idname.split('_')[1]\n",
    "    twinname = idname.replace(mu, twin_map[mu] )\n",
    "    twin = dcomb.sel( idname = twinname )\n",
    "    \n",
    "#    m = np.abs( d ) < np.abs( twin )\n",
    "#    sign = xr.ones_like( d ).where( m, -1 )\n",
    "#    diff = sign * np.abs(d - twin)\n",
    " \n",
    "    diff = np.abs( twin) - np.abs( d )\n",
    "    diff = diff.expand_dims('idname')\n",
    "    diff['idname'] = [idname, ]\n",
    "    \n",
    "    diff_list += [ diff, ]\n",
    "    \n",
    "dcomb_mu = xr.merge( diff_list )\n"
   ]
  },
  {
   "cell_type": "code",
   "execution_count": 315,
   "metadata": {},
   "outputs": [
    {
     "data": {
      "text/plain": [
       "<xarray.Dataset>\n",
       "Dimensions:    (component: 6, idname: 11, var: 3)\n",
       "Coordinates:\n",
       "  * idname     (idname) object '10km_twoMom_Conv' ... 'msevi-scaled'\n",
       "  * component  (component) |S19 'ave_bias' 'cloud_fraction_term' ... 'cre_bias'\n",
       "  * var        (var) object 'net' 'shortwave' 'longwave'\n",
       "Data variables:\n",
       "    abs_bias   (var, component, idname) float64 -1.688 3.452 ... -3.101 0.0"
      ]
     },
     "execution_count": 315,
     "metadata": {},
     "output_type": "execute_result"
    }
   ],
   "source": [
    "dcomb_mu"
   ]
  },
  {
   "cell_type": "markdown",
   "metadata": {},
   "source": [
    "### Plot the Bias Decomposition Matrix"
   ]
  },
  {
   "cell_type": "code",
   "execution_count": 316,
   "metadata": {
    "scrolled": true
   },
   "outputs": [
    {
     "data": {
      "image/png": "[encoded data removed]",
      "text/plain": [
       "<Figure size 1296x288 with 2 Axes>"
      ]
     },
     "metadata": {
      "needs_background": "light"
     },
     "output_type": "display_data"
    }
   ],
   "source": [
    "complist = ['cre_bias']\n",
    "ylabs = ['$\\delta \\mathrm{CRE}$-reduction\\n     $(\\mathrm{W\\,m^{-2}})$        ']\n",
    "\n",
    "fig, ax = pl.subplots( nrows = 1, ncols = 2, figsize = (18,4), sharex = True, sharey = True )\n",
    "pl.subplots_adjust( left = 0.3, bottom = 0.2, right = 0.8, top = 0.8 )\n",
    "ax = np.array( [ax,] )\n",
    "abc = string.ascii_lowercase\n",
    "\n",
    "n = 0\n",
    "for i, compname in enumerate( complist ):\n",
    "    for j, vname in enumerate( vlist ):\n",
    "        pl.sca( ax[i,j] )\n",
    "        hor_barplot_exp_plot( dcomb_mu.sel(var = vname), 'abs_bias', catlist = [compname, ], \n",
    "                      icount0 = 0,  idlist = idlist, \n",
    "                      iddim='idname', catdim = 'component', \n",
    "                      obsref_name='msevi-scaled', doffset=0.05, offset0=-0.2, make_labels=True)\n",
    "        \n",
    "        xlim = pl.xlim()\n",
    "        \n",
    "        pl.text( (0.2*xlim[1] + 0.8*xlim[0]) , 7.5, '(%s)' % abc[n+4], va = 'center', ha = 'center')\n",
    "        pl.xticks([])\n",
    "        \n",
    "        n += 1\n",
    "        \n",
    "    \n",
    "\n",
    "for j, vname in enumerate( vlist ):\n",
    "    pl.sca( ax[0, j])\n",
    "#    pl.title('%s' % vname, fontweight = 'bold', pad = 30)\n",
    "    \n",
    "for i, compname in enumerate( complist ):\n",
    "    a = ax[i, 0]\n",
    "    pl.sca( a )\n",
    "    \n",
    "    apos = a.get_position()\n",
    "    pl.figtext(apos.x0 - 0.1, apos.y0 + 0.4*apos.height, ylabs[i], \n",
    "                ha = 'center', fontsize = 'large')\n",
    "\n",
    "pl.suptitle(r'Switching Microphysics (*) $\\to$ (**)', fontsize = 'large', fontweight = 'bold')\n",
    "## dummy items\n",
    "\n",
    "\n",
    "#plegend(loc = 'lower center', ncol = 4, bbox_to_anchor = (1.6, -0.7), fontsize = 'medium' )\n",
    "\n",
    "sns.despine()\n",
    "pl.savefig('../pics/cre-bias-reduction-mu.png', dpi = 300)\n",
    "# pl.savefig('../pics/rad-bias-decomposition.png', pdi = 300)"
   ]
  }
 ],
 "metadata": {
  "kernelspec": {
   "display_name": "Python 2",
   "language": "python",
   "name": "python2"
  },
  "language_info": {
   "codemirror_mode": {
    "name": "ipython",
    "version": 2
   },
   "file_extension": ".py",
   "mimetype": "text/x-python",
   "name": "python",
   "nbconvert_exporter": "python",
   "pygments_lexer": "ipython2",
   "version": "2.7.15"
  }
 },
 "nbformat": 4,
 "nbformat_minor": 2
}
